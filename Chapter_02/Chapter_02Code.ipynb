{
 "cells": [
  {
   "cell_type": "markdown",
   "metadata": {},
   "source": [
    "Building a simple Perceptron classifier. The class computes weights for given binary classification problem"
   ]
  },
  {
   "cell_type": "code",
   "execution_count": 19,
   "metadata": {
    "collapsed": true
   },
   "outputs": [],
   "source": [
    "import numpy as np\n",
    "class Perceptron(object):\n",
    "    \"\"\"Perceptron classifier.\n",
    "\n",
    "    Parameters\n",
    "    ------------\n",
    "    eta : float\n",
    "        Learning rate (between 0.0 and 1.0)\n",
    "    n_iter : int\n",
    "        Passes over the training dataset.\n",
    "\n",
    "    Attributes\n",
    "    -----------\n",
    "    w_ : 1d-array\n",
    "        Weights after fitting.\n",
    "    errors_ : list\n",
    "        Number of misclassifications in every epoch.\n",
    "\n",
    "    \"\"\"\n",
    "    def __init__(self, eta=0.01, n_iter=10):\n",
    "        self.eta = eta\n",
    "        self.n_iter = n_iter\n",
    "\n",
    "    def fit(self, X, y):\n",
    "        \"\"\"Fit training data.\n",
    "\n",
    "        Parameters\n",
    "        ----------\n",
    "        X : {array-like}, shape = [n_samples, n_features]\n",
    "            Training vectors, where n_samples is the number of samples and\n",
    "            n_features is the number of features.\n",
    "        y : array-like, shape = [n_samples]\n",
    "            Target values.\n",
    "\n",
    "        Returns\n",
    "        -------\n",
    "        self : object\n",
    "\n",
    "        \"\"\"\n",
    "        self.w_ = np.zeros(1 + X.shape[1])\n",
    "        self.errors_ = []\n",
    "\n",
    "        for _ in range(self.n_iter):\n",
    "            errors = 0\n",
    "            for xi, target in zip(X, y):\n",
    "                update = self.eta * (target - self.predict(xi))\n",
    "                self.w_[1:] += update * xi\n",
    "                self.w_[0] += update\n",
    "                errors += int(update != 0.0)\n",
    "            self.errors_.append(errors)\n",
    "        return self\n",
    "\n",
    "    def net_input(self, X):\n",
    "        \"\"\"Calculate net input\"\"\"\n",
    "        return np.dot(X, self.w_[1:]) + self.w_[0]\n",
    "\n",
    "    def predict(self, X):\n",
    "        \"\"\"Return class label after unit step\"\"\"\n",
    "        return np.where(self.net_input(X) >= 0.0, 1, -1)"
   ]
  },
  {
   "cell_type": "markdown",
   "metadata": {},
   "source": [
    "Train the perceptron using example from iris data set"
   ]
  },
  {
   "cell_type": "code",
   "execution_count": 22,
   "metadata": {
    "collapsed": false
   },
   "outputs": [
    {
     "name": "stderr",
     "output_type": "stream",
     "text": [
      "/Users/admin/anaconda3/lib/python3.5/site-packages/matplotlib/collections.py:590: FutureWarning: elementwise comparison failed; returning scalar instead, but in the future will perform elementwise comparison\n",
      "  if self._edgecolors == str('face'):\n"
     ]
    },
    {
     "data": {
      "image/png": "[encoded data removed]",
      "text/plain": [
       "<matplotlib.figure.Figure at 0x10a5afb70>"
      ]
     },
     "metadata": {},
     "output_type": "display_data"
    },
    {
     "data": {
      "image/png": "[encoded data removed]",
      "text/plain": [
       "<matplotlib.figure.Figure at 0x10a121860>"
      ]
     },
     "metadata": {},
     "output_type": "display_data"
    }
   ],
   "source": [
    "import pandas as pd\n",
    "import numpy as np \n",
    "import matplotlib.pylab as plt\n",
    "#read data and look at first and last 5 rows\n",
    "df = pd.read_csv('https://archive.ics.uci.edu/ml/machine-learning-databases/iris/iris.data')\n",
    "df.tail()\n",
    "df.head()\n",
    "\n",
    "#since we want to do binary classification, retain only first 100 rows of data that \n",
    "#refers to features for Versicolor and Setosa flowers\n",
    "#set target variable\n",
    "target = df.iloc[0:100, 4].values\n",
    "target = np.where(target == 'Iris-setosa', -1, 1)\n",
    "\n",
    "#set feature / predictor variable. For our purposes, we are only\n",
    "#going to be using two features: petal length and sepal length\n",
    "X = df.iloc[0:100, [0, 2]].values\n",
    "\n",
    "#create a plot of features vs predictor\n",
    "plt.scatter(X[:50, 0], X[:50, 1], \n",
    "    color = 'red', marker = 'o', label = 'setosa')\n",
    "plt.scatter(X[50:, 0], X[50:, 1], \n",
    "    color = 'blue', marker = 'x', label = 'versicolor')\n",
    "plt.xlabel('petal length')\n",
    "plt.ylabel('petal height')\n",
    "plt.legend(loc = 'upper left')\n",
    "plt.show()\n",
    "\n",
    "ppn = Perceptron(eta = 0.1, n_iter = 10)\n",
    "ppn.fit(X, target)\n",
    "plt.plot(range(1, len(ppn.errors_) + 1), ppn.errors_, marker = 'o')\n",
    "plt.xlabel('Number of passes through training set')\n",
    "plt.ylabel('Number of misclassifications')\n",
    "plt.show()"
   ]
  },
  {
   "cell_type": "markdown",
   "metadata": {},
   "source": [
    "Function to plot all observations and decision boundary created by a given classifier"
   ]
  },
  {
   "cell_type": "code",
   "execution_count": 25,
   "metadata": {
    "collapsed": false
   },
   "outputs": [
    {
     "name": "stderr",
     "output_type": "stream",
     "text": [
      "/Users/admin/anaconda3/lib/python3.5/site-packages/matplotlib/collections.py:590: FutureWarning: elementwise comparison failed; returning scalar instead, but in the future will perform elementwise comparison\n",
      "  if self._edgecolors == str('face'):\n"
     ]
    },
    {
     "data": {
      "image/png": "[encoded data removed]",
      "text/plain": [
       "<matplotlib.figure.Figure at 0x10a7f4cf8>"
      ]
     },
     "metadata": {},
     "output_type": "display_data"
    }
   ],
   "source": [
    "############################Plot decision boundary for classifier#########\n",
    "from matplotlib.colors import ListedColormap\n",
    "\n",
    "def plt_decision_regions(X, y, classifier, resolution = 0.02):\n",
    "    markers = ('s', 'x', 'o', '^', 'v')\n",
    "    colors = ('red', 'blue', 'lightgreen', 'gray', 'cyan')\n",
    "    cmap = ListedColormap(colors[:len(np.unique(y))])\n",
    "\n",
    "    #plot decision surface\n",
    "    x1_min, x1_max = X[:, 0].min() - 1, X[:, 0].max() + 1\n",
    "    x2_min, x2_max = X[:, 1].min() - 1, X[:, 1].max() + 1\n",
    "    xx1, xx2 = np.meshgrid(np.arange(x1_min, x1_max, resolution), \n",
    "        np.arange(x2_min, x2_max, resolution))\n",
    "    z = classifier.predict(np.array([xx1.ravel(), xx2.ravel()]).T)\n",
    "    z = z.reshape(xx1.shape)\n",
    "    plt.contourf(xx1, xx2, z, alpha = 0.4, cmap = cmap)\n",
    "    plt.xlim(xx1.min(), xx1.max())\n",
    "    plt.ylim(xx2.min(), xx2.max())\n",
    "\n",
    "    #plot class samples\n",
    "    for idx, c1 in enumerate(np.unique(y)):\n",
    "        plt.scatter(x = X[y == c1, 0], y = X[y == c1, 1], \n",
    "            alpha = 0.8, c = cmap(idx), marker = markers[idx], label = c1)\n",
    "\n",
    "plt_decision_regions(X, target, classifier = ppn)\n",
    "plt.xlabel('sepal length (cm)')\n",
    "plt.ylabel('petal length (cm)')\n",
    "plt.legend(loc = 'upper left')\n",
    "plt.show()\n"
   ]
  },
  {
   "cell_type": "markdown",
   "metadata": {},
   "source": [
    "Implement class for classification using Batch Gradient Descent algorithm"
   ]
  },
  {
   "cell_type": "code",
   "execution_count": 3,
   "metadata": {
    "collapsed": true
   },
   "outputs": [],
   "source": [
    "class BatchGradientDescent(object):\n",
    "    \"\"\"Gradient Descent Classifier\n",
    "\n",
    "    Parameters\n",
    "    -----------\n",
    "    eta : float\n",
    "        Learning rate (between 0.0 and 1.0)\n",
    "    n_iter : int\n",
    "        Number of passes over training data set (0 to Inf)\n",
    "\n",
    "\n",
    "    Attributes\n",
    "    -----------\n",
    "    w_ : 1d-array\n",
    "        Weights after fitting\n",
    "    errors_ : list\n",
    "        Number of misclassification errors\n",
    "    \"\"\"\n",
    "\n",
    "    def __init__(self, eta = 0.01, n_iter = 50):\n",
    "        self.eta = eta\n",
    "        self.n_iter = n_iter\n",
    "\n",
    "    def fit(self, X, y):\n",
    "        \"\"\"Fit training data.\n",
    "\n",
    "        Parameters\n",
    "        -----------\n",
    "        X : array of shape = [n_samples, n_features]\n",
    "            Training vectors where n_samples is number of observations and\n",
    "            n_features is number of predictors\n",
    "        y: array of shape = [n_samples]\n",
    "            Vector of target values\n",
    "\n",
    "        Returns\n",
    "        --------\n",
    "        self: object\n",
    "        \"\"\"\n",
    "\n",
    "        #initialize all weights to 0\n",
    "        self.w_ = np.zeros(1 + X.shape[1])\n",
    "        self.cost_ = []\n",
    "\n",
    "        for i in range(self.n_iter):\n",
    "            output = self.net_input(X)\n",
    "            errors = (y - output)\n",
    "            self.w_[1:] += self.eta * X.T.dot(errors)\n",
    "            self.w_[0] += self.eta * errors.sum()\n",
    "            cost = (errors ** 2).sum()\n",
    "            self.cost_.append(cost)\n",
    "        return self\n",
    "\n",
    "    def net_input(self, X):\n",
    "        \"\"\"Calculate net input\"\"\"\n",
    "        return np.dot(X, self.w_[1:]) + self.w_[0]\n",
    "\n",
    "    def activation(self, X):\n",
    "        \"\"\"Compute linear activation\"\"\"\n",
    "        return self.net_input(X)\n",
    "\n",
    "    def predict(self, X):\n",
    "        \"\"\"Return class label after unit step\"\"\"\n",
    "        return np.where(self.activation(X) >= 0.0, 1, -1)"
   ]
  },
  {
   "cell_type": "markdown",
   "metadata": {},
   "source": [
    "Train multiple classifiers with Gradient Descent using different learning rates and plot the results including decision boundary and observations from dataset"
   ]
  },
  {
   "cell_type": "code",
   "execution_count": 26,
   "metadata": {
    "collapsed": false
   },
   "outputs": [
    {
     "data": {
      "image/png": "[encoded data removed]",
      "text/plain": [
       "<matplotlib.figure.Figure at 0x10a7ef668>"
      ]
     },
     "metadata": {},
     "output_type": "display_data"
    },
    {
     "name": "stderr",
     "output_type": "stream",
     "text": [
      "/Users/admin/anaconda3/lib/python3.5/site-packages/matplotlib/collections.py:590: FutureWarning: elementwise comparison failed; returning scalar instead, but in the future will perform elementwise comparison\n",
      "  if self._edgecolors == str('face'):\n"
     ]
    },
    {
     "data": {
      "image/png": "[encoded data removed]",
      "text/plain": [
       "<matplotlib.figure.Figure at 0x10a7e4780>"
      ]
     },
     "metadata": {},
     "output_type": "display_data"
    }
   ],
   "source": [
    "%matplotlib inline\n",
    "import matplotlib.pyplot as plt\n",
    "import pandas as pd\n",
    "import numpy as np \n",
    "\n",
    "#read data and look at first and last 5 rows\n",
    "df = pd.read_csv('https://archive.ics.uci.edu/ml/machine-learning-databases/iris/iris.data')\n",
    "df.tail()\n",
    "df.head()\n",
    "\n",
    "#since we want to do binary classification, retain only first 100 rows of data that \n",
    "#refers to features for Versicolor and Setosa flowers\n",
    "#set target variable\n",
    "y = df.iloc[0:100, 4].values\n",
    "y = np.where(y == 'Iris-setosa', -1, 1)\n",
    "\n",
    "#set feature / predictor variable. For our purposes, we are only\n",
    "#going to be using two features: petal length and sepal length\n",
    "X = df.iloc[0:100, [0, 2]].values\n",
    "\n",
    "\n",
    "fig, ax = plt.subplots(nrows = 1, ncols = 2, figsize = (8, 4))\n",
    "\n",
    "#implement first gradient desecent with learning rate = 0.01\n",
    "gd1 = BatchGradientDescent(eta = 0.01, n_iter = 10).fit(X, y)\n",
    "ax[0].plot(range(1, len(gd1.cost_) + 1), np.log10(gd1.cost_), marker = 'o')\n",
    "ax[0].set_xlabel('Number of iterations')\n",
    "ax[0].set_ylabel('log10(Sum Of Squared Error)')\n",
    "ax[0].set_title('GradientDescent - Learning Rate = 0.01')\n",
    "\n",
    "#implement second gradient desecent with learning rate = 0.0001\n",
    "gd2 = BatchGradientDescent(eta = 0.0001, n_iter = 10).fit(X, y)\n",
    "ax[1].plot(range(1, len(gd2.cost_) + 1), np.log10(gd2.cost_), marker = 'o')\n",
    "ax[1].set_xlabel('Number of iterations')\n",
    "ax[1].set_ylabel('log10(Sum Of Squared Error)')\n",
    "ax[1].set_title('GradientDescent - Learning Rate = 0.0001')\n",
    "\n",
    "plt.show()\n",
    "\n",
    "# ###########implementing GradientDescent using standardized values of X#######\n",
    "\n",
    "#standardize X \n",
    "X_std = np.copy(X)\n",
    "X_std[:, 0] = (X[:, 0] - X[:, 0].mean()) / X[:, 0].std()\n",
    "X_std[:, 1] = (X[:, 1] - X[:, 1].mean()) / X[:, 1].std()\n",
    "\n",
    "#implement Gradient Descent using standardized X\n",
    "grad_desc = BatchGradientDescent(eta = 0.01, n_iter = 15)\n",
    "grad_desc.fit(X_std, y)\n",
    "\n",
    "#plot observations and decision boundary\n",
    "plt_decision_regions(X_std, y, classifier = grad_desc)\n",
    "plt.title('Gradient Descent')\n",
    "plt.xlabel('sepal length(standardized)')\n",
    "plt.ylabel('petal length(standardized)')\n",
    "plt.legend(loc = 'upper left')\n",
    "plt.show()\n",
    "\n",
    "# #plot number of iterations vs cost at every iteration\n",
    "# plt.plot(range(1, len(grad_desc.cost_) + 1), grad_desc.cost_, marker = 'o')\n",
    "# plt.xlabel('Number of iterations')\n",
    "# plt.ylabel('SSE')\n",
    "# plt.show()"
   ]
  },
  {
   "cell_type": "markdown",
   "metadata": {},
   "source": [
    "Implement class to build classification mechanism using stochastic gradient descent"
   ]
  },
  {
   "cell_type": "code",
   "execution_count": 31,
   "metadata": {
    "collapsed": true
   },
   "outputs": [],
   "source": [
    "import numpy as np\n",
    "from numpy.random import seed\n",
    "\n",
    "class stochasticGradientDescent(object):\n",
    "    \"\"\"Stochastic Gradient Descent Class\n",
    "\n",
    "    Parameters\n",
    "    -----------\n",
    "    eta : float\n",
    "        Learning rate (between 0.0 and 1.0)\n",
    "    n_iter : int\n",
    "        Number of passes over training dataset\n",
    "\n",
    "    Attributes\n",
    "    ----------\n",
    "    w_ : 1d-array\n",
    "        Weights after fitting\n",
    "    errors : list\n",
    "        Number of misclassification errors\n",
    "    shuffle: bool (default: True)\n",
    "        shuffles training data at every iteration in order to \n",
    "        prevent cycles\n",
    "    random_state : int (default: None)\n",
    "        Set random state for shuffling and initializing weights \n",
    "    \"\"\"\n",
    "    def __init__(self, eta = 0.01, n_iter = 10, shuffle = True, random_state = None):\n",
    "        self.eta = eta\n",
    "        self.n_iter = n_iter\n",
    "        self.w_initialized = False\n",
    "        self.shuffle = shuffle\n",
    "\n",
    "        if random_state:\n",
    "            seed(random_state)\n",
    "\n",
    "    def _shuffle(self, X, y):\n",
    "        \"\"\"Shuffle training data\"\"\"\n",
    "        r = np.random.permutation(len(y))\n",
    "        return X[r], y[r]\n",
    "\n",
    "    def _initialize_weights(self, m):\n",
    "        \"\"\"Initialize weights to zeros\"\"\"\n",
    "        self.w_ = np.zeros(1 + m)\n",
    "        self.w_initialized = True\n",
    "\n",
    "    def _update_weights(self, xi, target):\n",
    "        \"\"\"\n",
    "        Apply Stochastic Gradient Descent learning rule to update\n",
    "        weights \n",
    "        \"\"\"\n",
    "        output = self.net_input(xi)\n",
    "        error = target - output\n",
    "        self.w_[1:] += self.eta * xi.dot(error)\n",
    "        self.w_[0] += self.eta * error\n",
    "        cost = 0.5 * (error ** 2)\n",
    "        return cost\n",
    "\n",
    "    def fit(self, X, y):\n",
    "        \"\"\"\n",
    "        Fit training data\n",
    "\n",
    "        Parameters\n",
    "        ----------\n",
    "        X : array of shape = [n_samples, n_features]\n",
    "            Training array where n_samples is number of \n",
    "            observations in dataset and n_features is the \n",
    "            number of predictors\n",
    "        y : array of shape = [n_samples]\n",
    "            Target vector\n",
    "\n",
    "        Returns\n",
    "        --------\n",
    "        self : object\n",
    "        \"\"\"\n",
    "        self._initialize_weights(X.shape[1])\n",
    "        self.cost_ = []\n",
    "\n",
    "        for i in range(self.n_iter):\n",
    "            if self.shuffle:\n",
    "                X, y = self._shuffle(X, y)\n",
    "            cost = []\n",
    "            for xi, target in zip(X, y):\n",
    "                cost.append(self._update_weights(xi, target))\n",
    "            avg_cost = sum(cost) / len(y)\n",
    "            self.cost_.append(avg_cost)\n",
    "        return self\n",
    "\n",
    "    def partial_fit(self, X, y):\n",
    "        \"\"\"Fit training data without re-initializing weights\"\"\"\n",
    "        if not self.w_initialized:\n",
    "            self._initialize_weights(X.shape[1])\n",
    "        if y.reval().shape[0] > 1:\n",
    "            for xi, target in zip(X, y):\n",
    "                self._update_weights(xi, target)\n",
    "        else:\n",
    "            self._update_weights(X, y)\n",
    "        return self\n",
    "\n",
    "    def net_input(self, X):\n",
    "        \"\"\"Calculate net input\"\"\"\n",
    "        return np.dot(X, self.w_[1:]) + self.w_[0]\n",
    "\n",
    "    def activation(self, X):\n",
    "        \"\"\"Compute linear activation\"\"\"\n",
    "        return self.net_input(X)\n",
    "\n",
    "    def predict(self, X):\n",
    "        \"\"\"Return class label after unit step\"\"\"\n",
    "        return np.where(self.activation(X) >= 0.0, 1, -1)"
   ]
  },
  {
   "cell_type": "markdown",
   "metadata": {},
   "source": [
    "Train a classifier with Stochastic Gradient Descent and plot the results including decision boundary and observations from dataset"
   ]
  },
  {
   "cell_type": "code",
   "execution_count": 33,
   "metadata": {
    "collapsed": false
   },
   "outputs": [
    {
     "name": "stderr",
     "output_type": "stream",
     "text": [
      "/Users/admin/anaconda3/lib/python3.5/site-packages/matplotlib/collections.py:590: FutureWarning: elementwise comparison failed; returning scalar instead, but in the future will perform elementwise comparison\n",
      "  if self._edgecolors == str('face'):\n"
     ]
    },
    {
     "data": {
      "image/png": "[encoded data removed]",
      "text/plain": [
       "<matplotlib.figure.Figure at 0x10a4207b8>"
      ]
     },
     "metadata": {},
     "output_type": "display_data"
    },
    {
     "data": {
      "image/png": "[encoded data removed]",
      "text/plain": [
       "<matplotlib.figure.Figure at 0x10a585c88>"
      ]
     },
     "metadata": {},
     "output_type": "display_data"
    }
   ],
   "source": [
    "import matplotlib.pyplot as plt\n",
    "import pandas as pd\n",
    "import numpy as np \n",
    "\n",
    "#read data and look at first and last 5 rows\n",
    "df = pd.read_csv('https://archive.ics.uci.edu/ml/machine-learning-databases/iris/iris.data')\n",
    "df.tail()\n",
    "df.head()\n",
    "\n",
    "#since we want to do binary classification, retain only first 100 rows of data that \n",
    "#refers to features for Versicolor and Setosa flowers\n",
    "#set target variable\n",
    "y = df.iloc[0:100, 4].values\n",
    "y = np.where(y == 'Iris-setosa', -1, 1)\n",
    "\n",
    "#set feature / predictor variable. For our purposes, we are only\n",
    "#going to be using two features: petal length and sepal length\n",
    "X = df.iloc[0:100, [0, 2]].values\n",
    "\n",
    "#standardize X \n",
    "X_std = np.copy(X)\n",
    "X_std[:, 0] = (X[:, 0] - X[:, 0].mean()) / X[:, 0].std()\n",
    "X_std[:, 1] = (X[:, 1] - X[:, 1].mean()) / X[:, 1].std()\n",
    "\n",
    "#train stochastic gradient descent model and plot the decision boundary\n",
    "stochastic_gd = stochasticGradientDescent(eta = 0.01, n_iter = 15, random_state = 1)\n",
    "stochastic_gd.fit(X_std, y)\n",
    "plt_decision_regions(X_std, y, classifier = stochastic_gd)\n",
    "plt.title('Stochastic Gradient Descent')\n",
    "plt.xlabel('sepal length(standardized)')\n",
    "plt.ylabel('petal length(standardized)')\n",
    "plt.legend(loc = 'upper left')\n",
    "plt.show()\n",
    "plt.plot(range(1, len(stochastic_gd.cost_) + 1), stochastic_gd.cost_, \n",
    "     marker = 'o')\n",
    "plt.xlabel ('Number of iterations')\n",
    "plt.ylabel ('Average Cost')\n",
    "plt.show()"
   ]
  },
  {
   "cell_type": "code",
   "execution_count": null,
   "metadata": {
    "collapsed": true
   },
   "outputs": [],
   "source": []
  }
 ],
 "metadata": {
  "kernelspec": {
   "display_name": "Python 3",
   "language": "python",
   "name": "python3"
  },
  "language_info": {
   "codemirror_mode": {
    "name": "ipython",
    "version": 3
   },
   "file_extension": ".py",
   "mimetype": "text/x-python",
   "name": "python",
   "nbconvert_exporter": "python",
   "pygments_lexer": "ipython3",
   "version": "3.5.0"
  }
 },
 "nbformat": 4,
 "nbformat_minor": 0
}
