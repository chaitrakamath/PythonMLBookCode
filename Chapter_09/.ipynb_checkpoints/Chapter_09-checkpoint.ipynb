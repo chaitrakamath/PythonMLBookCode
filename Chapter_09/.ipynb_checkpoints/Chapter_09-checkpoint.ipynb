{
 "cells": [
  {
   "cell_type": "markdown",
   "metadata": {},
   "source": [
    "# Create the same classifier that we created in Chapter_08"
   ]
  },
  {
   "cell_type": "code",
   "execution_count": 2,
   "metadata": {
    "collapsed": false
   },
   "outputs": [
    {
     "name": "stdout",
     "output_type": "stream",
     "text": [
      "Accuracy: 0.868\n"
     ]
    }
   ],
   "source": [
    "import numpy as np\n",
    "import re\n",
    "from nltk.corpus import stopwords\n",
    "stop = stopwords.words('english')\n",
    "path = r'/Users/Jaan/Documents/gitHubCode/PythonMachineLearningBook/Chapter_08/data'\n",
    "#define method to tokenize sentences and remove all HTML markups and other punctuations\n",
    "def tokenizer(sentence):\n",
    "    sentence = re.sub('<[^>]*>', '', sentence)\n",
    "    emoticons = re.findall('(?::|;|=)(?:-)?(?:\\)|\\(|D|P)', sentence.lower())\n",
    "    sentence = re.sub('[\\W]', ' ', sentence.lower()) + ''.join(emoticons).replace('-', '')\n",
    "    tokenized = [w for w in sentence.split() if w not in stop]\n",
    "    return tokenized\n",
    "\n",
    "#function to read and return one document at a time\n",
    "def stream_docs(path):\n",
    "    with open(path, 'r') as file:\n",
    "        next(file) #skip header\n",
    "        for line in file:\n",
    "            text, label = line[:-3], int(line[-2])\n",
    "#             print (text)\n",
    "#             print(label)\n",
    "#             print\n",
    "            yield text, label\n",
    "stream_docs(path = path + '/movie_data.csv')\n",
    "\n",
    "#function that returns only specified number of documents from document stream\n",
    "def get_minibatch(doc_stream, size):\n",
    "    docs, y = [], []\n",
    "    try:\n",
    "        for _ in range(size):\n",
    "            \n",
    "            text, label = next(doc_stream)\n",
    "            docs.append(text)\n",
    "            y.append(label)\n",
    "    except StopIteration: \n",
    "        return None, None\n",
    "    return docs, y\n",
    "\n",
    "#train classifier\n",
    "from sklearn.feature_extraction.text import HashingVectorizer\n",
    "from sklearn.linear_model import SGDClassifier\n",
    "\n",
    "vect = HashingVectorizer(decode_error = 'ignore', n_features = 2 ** 21, \n",
    "                        preprocessor = None, tokenizer = tokenizer)\n",
    "clf = SGDClassifier(loss = 'log', random_state = 1, n_iter = 1)\n",
    "doc_stream = stream_docs(path = path +'/movie_data.csv')\n",
    "\n",
    "classes = np.array([0, 1])\n",
    "for _ in range(45):\n",
    "    X_train, y_train = get_minibatch(doc_stream, size = 1000)\n",
    "    if not X_train:\n",
    "        break\n",
    "    X_train = vect.transform(X_train)\n",
    "    clf.partial_fit(X_train, y_train, classes = classes)\n",
    "    \n",
    "#test the model\n",
    "X_test, y_test = get_minibatch(doc_stream, size = 5000)\n",
    "X_test = vect.transform(X_test)\n",
    "print ('Accuracy: %.3f' %clf.score(X_test, y_test))\n",
    "\n",
    "#create and store classifier as variable called clf\n",
    "clf = clf.partial_fit(X_train, y_train)"
   ]
  },
  {
   "cell_type": "markdown",
   "metadata": {},
   "source": [
    "# Serializing fitted scikit-learn estimators"
   ]
  },
  {
   "cell_type": "code",
   "execution_count": 3,
   "metadata": {
    "collapsed": false
   },
   "outputs": [],
   "source": [
    "import pickle\n",
    "import os\n",
    "dest = os.path.join('movieclassfier', 'pkl_objects')\n",
    "if not os.path.exists(dest):\n",
    "    os.makedirs(dest)\n",
    "pickle.dump(stop, open(os.path.join(dest, 'stopwords.pkl'), 'wb'), \n",
    "            protocol = 2)\n",
    "pickle.dump(clf, open(os.path.join(dest, 'classifier.pkl'), 'wb'), \n",
    "           protocol = 2)"
   ]
  },
  {
   "cell_type": "markdown",
   "metadata": {
    "collapsed": true
   },
   "source": [
    "Before executing the following commands, restart the kernel and start executing commands from the cell below. "
   ]
  },
  {
   "cell_type": "code",
   "execution_count": 3,
   "metadata": {
    "collapsed": false
   },
   "outputs": [
    {
     "data": {
      "text/plain": [
       "'/Users/Jaan/Documents/gitHubCode/PythonMachineLearningBook/Chapter_09/movieclassfier'"
      ]
     },
     "execution_count": 3,
     "metadata": {},
     "output_type": "execute_result"
    }
   ],
   "source": [
    "import os\n",
    "os.getcwd()\n",
    "os.chdir('/Users/Jaan/Documents/gitHubCode/PythonMachineLearningBook/Chapter_09/movieclassfier')\n",
    "os.getcwd()"
   ]
  },
  {
   "cell_type": "code",
   "execution_count": 8,
   "metadata": {
    "collapsed": false
   },
   "outputs": [],
   "source": [
    "#load vectorizer and unpickled classifier\n",
    "import pickle\n",
    "import re\n",
    "import os\n",
    "from vectorizer import vect\n",
    "clf = pickle.load(open(os.path.join('pkl_objects', 'classifier.pkl'), 'rb'))"
   ]
  },
  {
   "cell_type": "code",
   "execution_count": 9,
   "metadata": {
    "collapsed": false
   },
   "outputs": [
    {
     "name": "stdout",
     "output_type": "stream",
     "text": [
      "Predction: positive\n",
      "Probability: 82.90%\n"
     ]
    }
   ],
   "source": [
    "#preprocess document samples and make predictions\n",
    "import numpy as np\n",
    "label = {0: 'negative', 1:'positive'}\n",
    "example = ['I love this movie']\n",
    "X = vect.transform(example)\n",
    "print ('Predction: %s\\nProbability: %.2f%%' %(label[clf.predict(X)[0]], np.max(clf.predict_proba(X) * 100)))"
   ]
  },
  {
   "cell_type": "markdown",
   "metadata": {},
   "source": [
    "# Setting up a SQLite database for data storage"
   ]
  },
  {
   "cell_type": "code",
   "execution_count": 16,
   "metadata": {
    "collapsed": false
   },
   "outputs": [],
   "source": [
    "#create review database and update it with two example rows of data\n",
    "import sqlite3\n",
    "import os\n",
    "conn = sqlite3.connect('reviews.sqlite')\n",
    "c = conn.cursor()\n",
    "c.execute('''CREATE TABLE review_db \n",
    "            (review TEXT, \n",
    "            sentiment INTEGER, \n",
    "            date TEXT);''' )\n",
    "example1 = 'I love this movie'\n",
    "c.execute(\"INSERT INTO review_db (review, sentiment, date) VALUES(?, ?, DATETIME('now'))\", (example1, 1))\n",
    "example2 = 'I do not like this movie'\n",
    "c.execute(\"INSERT INTO review_db (review, sentiment, date) VALUES(?, ?, DATETIME('now'))\", (example2, 0))\n",
    "conn.commit()\n",
    "conn.close()"
   ]
  },
  {
   "cell_type": "code",
   "execution_count": 15,
   "metadata": {
    "collapsed": false
   },
   "outputs": [
    {
     "data": {
      "text/plain": [
       "<sqlite3.Cursor at 0x10432c030>"
      ]
     },
     "execution_count": 15,
     "metadata": {},
     "output_type": "execute_result"
    }
   ],
   "source": [
    "#use in case we need to drop the review table before needing to create it again\n",
    "# conn = sqlite3.connect('reviews.sqlite')\n",
    "# c = conn.cursor()\n",
    "# c.executescript('drop table review_db')"
   ]
  },
  {
   "cell_type": "code",
   "execution_count": 19,
   "metadata": {
    "collapsed": false
   },
   "outputs": [
    {
     "name": "stdout",
     "output_type": "stream",
     "text": [
      "[('I love this movie', 1, '2015-12-31 20:06:19'), ('I do not like this movie', 0, '2015-12-31 20:06:19')]\n"
     ]
    }
   ],
   "source": [
    "#check entries entered into the databse\n",
    "conn = sqlite3.connect('reviews.sqlite')\n",
    "c = conn.cursor()\n",
    "c.execute(\"SELECT * FROM review_db WHERE date BETWEEN '2015-01-01 00:00:00' AND DATETIME('now')\")\n",
    "results = c.fetchall()\n",
    "conn.close()\n",
    "print (results)"
   ]
  },
  {
   "cell_type": "code",
   "execution_count": null,
   "metadata": {
    "collapsed": true
   },
   "outputs": [],
   "source": []
  }
 ],
 "metadata": {
  "kernelspec": {
   "display_name": "Python 3",
   "language": "python",
   "name": "python3"
  },
  "language_info": {
   "codemirror_mode": {
    "name": "ipython",
    "version": 3
   },
   "file_extension": ".py",
   "mimetype": "text/x-python",
   "name": "python",
   "nbconvert_exporter": "python",
   "pygments_lexer": "ipython3",
   "version": "3.5.1"
  }
 },
 "nbformat": 4,
 "nbformat_minor": 0
}
